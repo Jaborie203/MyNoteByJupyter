{
 "cells": [
  {
   "cell_type": "code",
   "execution_count": 2,
   "metadata": {},
   "outputs": [
    {
     "name": "stdout",
     "output_type": "stream",
     "text": [
      "1\n",
      "2\n",
      "3\n"
     ]
    }
   ],
   "source": [
    "for i in range(1, 4):\n",
    "    print(i)"
   ]
  },
  {
   "cell_type": "code",
   "execution_count": 5,
   "metadata": {},
   "outputs": [
    {
     "name": "stdout",
     "output_type": "stream",
     "text": [
      "none\n"
     ]
    }
   ],
   "source": [
    "x = None\n",
    "if x == None:\n",
    "    print(\"none\")"
   ]
  },
  {
   "cell_type": "code",
   "execution_count": 11,
   "metadata": {},
   "outputs": [
    {
     "name": "stdout",
     "output_type": "stream",
     "text": [
      "{0: {1: [], 2: []}, 1: {2: [], 3: []}, 2: {3: [], 4: []}, 3: {4: [], 5: []}, 4: {5: [], 6: []}}\n"
     ]
    }
   ],
   "source": [
    "x = {}\n",
    "for i in range(5):\n",
    "    x[i] = {i+1: [], i+2: []}\n",
    "print(x)"
   ]
  },
  {
   "cell_type": "code",
   "execution_count": 12,
   "metadata": {},
   "outputs": [
    {
     "name": "stdout",
     "output_type": "stream",
     "text": [
      "{0: {1: [1], 2: []}, 1: {2: [], 3: []}, 2: {3: [], 4: []}, 3: {4: [], 5: []}, 4: {5: [], 6: []}}\n"
     ]
    }
   ],
   "source": [
    "x[0][1].append(1)\n",
    "print(x)"
   ]
  },
  {
   "cell_type": "code",
   "execution_count": 15,
   "metadata": {},
   "outputs": [],
   "source": [
    "x[0][1].append(2)\n",
    "x[0][2].append(2)"
   ]
  },
  {
   "cell_type": "code",
   "execution_count": 16,
   "metadata": {},
   "outputs": [
    {
     "name": "stdout",
     "output_type": "stream",
     "text": [
      "{0: {1: [1, 2, 2, 2], 2: [2]}, 1: {2: [], 3: []}, 2: {3: [], 4: []}, 3: {4: [], 5: []}, 4: {5: [], 6: []}}\n"
     ]
    }
   ],
   "source": [
    "print(x)"
   ]
  },
  {
   "cell_type": "code",
   "execution_count": 17,
   "metadata": {},
   "outputs": [
    {
     "name": "stdout",
     "output_type": "stream",
     "text": [
      "dict_keys([0, 1, 2, 3, 4])\n"
     ]
    }
   ],
   "source": [
    "print(x.keys())"
   ]
  },
  {
   "cell_type": "code",
   "execution_count": 45,
   "metadata": {},
   "outputs": [
    {
     "name": "stdout",
     "output_type": "stream",
     "text": [
      "1 2\n"
     ]
    }
   ],
   "source": [
    "import random\n",
    "random.seed(200)\n",
    "x = random.randint(1,6)\n",
    "y = random.randint(1, 6)\n",
    "print(x, y)"
   ]
  },
  {
   "cell_type": "code",
   "execution_count": 54,
   "metadata": {},
   "outputs": [],
   "source": [
    "import torch\n",
    "mean = (0.5, 0.5, 0.5)\n",
    "std = (0.5, 0.5, 0.5)\n",
    "x = torch.randn(1, 224, 224)"
   ]
  },
  {
   "cell_type": "code",
   "execution_count": 55,
   "metadata": {},
   "outputs": [
    {
     "name": "stdout",
     "output_type": "stream",
     "text": [
      "0\n",
      "torch.Size([224, 224]) 0.5 0.5\n",
      "torch.Size([1, 224, 224])\n"
     ]
    }
   ],
   "source": [
    "i = 0\n",
    "for t, m, s in zip(x, mean, std):\n",
    "    print(i)\n",
    "    i = i + 1\n",
    "    print(t.shape, m, s)\n",
    "    t.sub_(m).div_(s)\n",
    "print(x.shape)"
   ]
  },
  {
   "cell_type": "code",
   "execution_count": 57,
   "metadata": {},
   "outputs": [
    {
     "ename": "RuntimeError",
     "evalue": "output with shape [1, 224, 224] doesn't match the broadcast shape [3, 224, 224]",
     "output_type": "error",
     "traceback": [
      "\u001b[0;31m---------------------------------------------------------------------------\u001b[0m",
      "\u001b[0;31mRuntimeError\u001b[0m                              Traceback (most recent call last)",
      "\u001b[0;32m<ipython-input-57-07726d231e91>\u001b[0m in \u001b[0;36m<module>\u001b[0;34m()\u001b[0m\n\u001b[1;32m      2\u001b[0m \u001b[0mmean\u001b[0m \u001b[0;34m=\u001b[0m \u001b[0mtorch\u001b[0m\u001b[0;34m.\u001b[0m\u001b[0mas_tensor\u001b[0m\u001b[0;34m(\u001b[0m\u001b[0mmean\u001b[0m\u001b[0;34m,\u001b[0m \u001b[0mdtype\u001b[0m\u001b[0;34m=\u001b[0m\u001b[0mdtype\u001b[0m\u001b[0;34m,\u001b[0m \u001b[0mdevice\u001b[0m\u001b[0;34m=\u001b[0m\u001b[0mx\u001b[0m\u001b[0;34m.\u001b[0m\u001b[0mdevice\u001b[0m\u001b[0;34m)\u001b[0m\u001b[0;34m\u001b[0m\u001b[0m\n\u001b[1;32m      3\u001b[0m \u001b[0mstd\u001b[0m \u001b[0;34m=\u001b[0m \u001b[0mtorch\u001b[0m\u001b[0;34m.\u001b[0m\u001b[0mas_tensor\u001b[0m\u001b[0;34m(\u001b[0m\u001b[0mstd\u001b[0m\u001b[0;34m,\u001b[0m \u001b[0mdtype\u001b[0m\u001b[0;34m=\u001b[0m\u001b[0mdtype\u001b[0m\u001b[0;34m,\u001b[0m \u001b[0mdevice\u001b[0m\u001b[0;34m=\u001b[0m\u001b[0mx\u001b[0m\u001b[0;34m.\u001b[0m\u001b[0mdevice\u001b[0m\u001b[0;34m)\u001b[0m\u001b[0;34m\u001b[0m\u001b[0m\n\u001b[0;32m----> 4\u001b[0;31m \u001b[0mx\u001b[0m\u001b[0;34m.\u001b[0m\u001b[0msub_\u001b[0m\u001b[0;34m(\u001b[0m\u001b[0mmean\u001b[0m\u001b[0;34m[\u001b[0m\u001b[0;34m:\u001b[0m\u001b[0;34m,\u001b[0m \u001b[0;32mNone\u001b[0m\u001b[0;34m,\u001b[0m \u001b[0;32mNone\u001b[0m\u001b[0;34m]\u001b[0m\u001b[0;34m)\u001b[0m\u001b[0;34m.\u001b[0m\u001b[0mdiv_\u001b[0m\u001b[0;34m(\u001b[0m\u001b[0mstd\u001b[0m\u001b[0;34m[\u001b[0m\u001b[0;34m:\u001b[0m\u001b[0;34m,\u001b[0m \u001b[0;32mNone\u001b[0m\u001b[0;34m,\u001b[0m \u001b[0;32mNone\u001b[0m\u001b[0;34m]\u001b[0m\u001b[0;34m)\u001b[0m\u001b[0;34m\u001b[0m\u001b[0m\n\u001b[0m\u001b[1;32m      5\u001b[0m \u001b[0mprint\u001b[0m\u001b[0;34m(\u001b[0m\u001b[0mx\u001b[0m\u001b[0;34m.\u001b[0m\u001b[0mshape\u001b[0m\u001b[0;34m)\u001b[0m\u001b[0;34m\u001b[0m\u001b[0m\n",
      "\u001b[0;31mRuntimeError\u001b[0m: output with shape [1, 224, 224] doesn't match the broadcast shape [3, 224, 224]"
     ]
    }
   ],
   "source": [
    "dtype = x.dtype\n",
    "mean = torch.as_tensor(mean, dtype=dtype, device=x.device)\n",
    "std = torch.as_tensor(std, dtype=dtype, device=x.device)\n",
    "x.sub_(mean[:, None, None]).div_(std[:, None, None])\n",
    "print(x.shape)"
   ]
  },
  {
   "cell_type": "code",
   "execution_count": 61,
   "metadata": {},
   "outputs": [
    {
     "data": {
      "text/plain": [
       "torch.Size([3, 1, 1])"
      ]
     },
     "execution_count": 61,
     "metadata": {},
     "output_type": "execute_result"
    }
   ],
   "source": [
    "temp = mean\n",
    "mean[:, None, None].shape"
   ]
  },
  {
   "cell_type": "code",
   "execution_count": 64,
   "metadata": {},
   "outputs": [],
   "source": [
    "temp = temp.reshape(3, 1, 1)"
   ]
  },
  {
   "cell_type": "code",
   "execution_count": 65,
   "metadata": {},
   "outputs": [
    {
     "data": {
      "text/plain": [
       "torch.Size([3, 1, 1])"
      ]
     },
     "execution_count": 65,
     "metadata": {},
     "output_type": "execute_result"
    }
   ],
   "source": [
    "temp.shape"
   ]
  },
  {
   "cell_type": "code",
   "execution_count": 67,
   "metadata": {},
   "outputs": [
    {
     "name": "stdout",
     "output_type": "stream",
     "text": [
      "tensor([[ 0.1646,  0.7677,  1.6776,  ...,  0.4411,  0.9856, -1.4142],\n",
      "        [ 2.0657,  0.7759,  0.8356,  ...,  0.4719,  0.4979,  1.0420],\n",
      "        [ 0.9196, -0.2082,  1.4280,  ...,  0.5506, -1.5939,  0.0919],\n",
      "        ...,\n",
      "        [ 0.4132,  0.9132, -0.3695,  ..., -0.2731,  0.8260, -0.4023],\n",
      "        [ 0.1364, -1.1301,  1.4467,  ..., -0.1181, -0.6441, -0.4248],\n",
      "        [-0.7912, -0.2835,  1.0588,  ...,  2.1223, -1.1470, -1.3365]]) 0.5 0.5\n"
     ]
    }
   ],
   "source": [
    "a = (0.5, 0.5, 0.5)\n",
    "b = (0.5, 0.5, 0.5)\n",
    "c = torch.randn(1, 224, 224)\n",
    "for t, m, s in zip(c, a, b):\n",
    "    print(t, m, s)"
   ]
  },
  {
   "cell_type": "code",
   "execution_count": 77,
   "metadata": {},
   "outputs": [],
   "source": [
    "a = (0.5,)\n",
    "a = torch.as_tensor(a)"
   ]
  },
  {
   "cell_type": "code",
   "execution_count": 78,
   "metadata": {},
   "outputs": [
    {
     "name": "stdout",
     "output_type": "stream",
     "text": [
      "tensor([[[0.5000]]])\n"
     ]
    }
   ],
   "source": [
    "print(a[:, None, None])"
   ]
  },
  {
   "cell_type": "code",
   "execution_count": 76,
   "metadata": {},
   "outputs": [
    {
     "data": {
      "text/plain": [
       "torch.Size([1, 2, 2])"
      ]
     },
     "execution_count": 76,
     "metadata": {},
     "output_type": "execute_result"
    }
   ],
   "source": [
    "torch.tensor([[[1,2], [3,4]]]).shape"
   ]
  },
  {
   "cell_type": "code",
   "execution_count": null,
   "metadata": {},
   "outputs": [],
   "source": [
    "images_path = list(map(lambda x: os.path.join('JPEGImages/480p/', seq.strip(), x), images))"
   ]
  },
  {
   "cell_type": "code",
   "execution_count": 79,
   "metadata": {},
   "outputs": [
    {
     "name": "stdout",
     "output_type": "stream",
     "text": [
      "['.ipynb_checkpoints', 'kl_divergence.ipynb', 'test2.ipynb', 'deep_learning_hw', 'nn.module相关实验.pdf', 'nn.module相关实验.ipynb', 'test1.ipynb', 'torch_optimizer相关实验.ipynb']\n"
     ]
    }
   ],
   "source": [
    "import os\n",
    "print(os.listdir())"
   ]
  },
  {
   "cell_type": "code",
   "execution_count": 124,
   "metadata": {},
   "outputs": [],
   "source": [
    "x = torch.tensor(1)"
   ]
  },
  {
   "cell_type": "code",
   "execution_count": 125,
   "metadata": {},
   "outputs": [
    {
     "name": "stdout",
     "output_type": "stream",
     "text": [
      "tensor(1)\n"
     ]
    }
   ],
   "source": [
    "print(x)"
   ]
  },
  {
   "cell_type": "code",
   "execution_count": 126,
   "metadata": {},
   "outputs": [
    {
     "name": "stdout",
     "output_type": "stream",
     "text": [
      "False\n"
     ]
    }
   ],
   "source": [
    "print(x.requires_grad)"
   ]
  },
  {
   "cell_type": "code",
   "execution_count": 127,
   "metadata": {},
   "outputs": [],
   "source": [
    "y = torch.tensor(3.0, requires_grad=True)"
   ]
  },
  {
   "cell_type": "code",
   "execution_count": 128,
   "metadata": {},
   "outputs": [
    {
     "name": "stdout",
     "output_type": "stream",
     "text": [
      "tensor(3., grad_fn=<MulBackward0>)\n"
     ]
    }
   ],
   "source": [
    "z = x * y\n",
    "print(z)"
   ]
  },
  {
   "cell_type": "code",
   "execution_count": 129,
   "metadata": {},
   "outputs": [],
   "source": [
    "m = torch.tensor(2)"
   ]
  },
  {
   "cell_type": "code",
   "execution_count": 130,
   "metadata": {},
   "outputs": [
    {
     "name": "stdout",
     "output_type": "stream",
     "text": [
      "tensor(6., grad_fn=<MulBackward0>) True\n"
     ]
    }
   ],
   "source": [
    "k = z*m\n",
    "print(k, k.requires_grad)"
   ]
  },
  {
   "cell_type": "code",
   "execution_count": 131,
   "metadata": {},
   "outputs": [],
   "source": [
    "k.backward()"
   ]
  },
  {
   "cell_type": "code",
   "execution_count": 133,
   "metadata": {},
   "outputs": [
    {
     "data": {
      "text/plain": [
       "(None, tensor(2.), None, None, None)"
      ]
     },
     "execution_count": 133,
     "metadata": {},
     "output_type": "execute_result"
    }
   ],
   "source": [
    "x.grad, y.grad, z.grad, k.grad, m.grad"
   ]
  },
  {
   "cell_type": "code",
   "execution_count": 134,
   "metadata": {},
   "outputs": [
    {
     "name": "stdout",
     "output_type": "stream",
     "text": [
      "False True True True False\n"
     ]
    }
   ],
   "source": [
    "print(x.requires_grad, y.requires_grad, z.requires_grad, k.requires_grad, m.requires_grad)"
   ]
  },
  {
   "cell_type": "code",
   "execution_count": 137,
   "metadata": {},
   "outputs": [
    {
     "name": "stdout",
     "output_type": "stream",
     "text": [
      "True\n"
     ]
    }
   ],
   "source": [
    "import numpy as np\n",
    "x = np.array([1,2])\n",
    "y = np.asarray(x)\n",
    "print(x is y)"
   ]
  },
  {
   "cell_type": "code",
   "execution_count": 145,
   "metadata": {},
   "outputs": [
    {
     "name": "stdout",
     "output_type": "stream",
     "text": [
      "torch.Size([2, 2, 2]) tensor([[[1, 2],\n",
      "         [1, 2]],\n",
      "\n",
      "        [[3, 4],\n",
      "         [3, 4]]])\n"
     ]
    }
   ],
   "source": [
    "x = torch.tensor([[1,2], [3,4]])\n",
    "y = torch.tensor([[1,2], [3,4]])\n",
    "z = torch.stack((x,y), dim=1)\n",
    "print(z.shape, z)"
   ]
  },
  {
   "cell_type": "code",
   "execution_count": 146,
   "metadata": {},
   "outputs": [
    {
     "name": "stdout",
     "output_type": "stream",
     "text": [
      "tensor([[-1.0241,  0.2053, -0.9525, -1.3480],\n",
      "        [ 1.0341, -1.2128,  0.2027,  1.2438],\n",
      "        [ 0.3916,  0.6238,  0.4306, -0.1564],\n",
      "        [ 0.6108, -0.8369,  1.0873,  0.6956]])\n",
      "tensor([[ 0.2053],\n",
      "        [-1.2128],\n",
      "        [ 0.6238],\n",
      "        [-0.8369]])\n"
     ]
    }
   ],
   "source": [
    "x = torch.randn(4,4)\n",
    "print(x)\n",
    "print(x[:, 1:2])"
   ]
  },
  {
   "cell_type": "code",
   "execution_count": 3,
   "metadata": {},
   "outputs": [
    {
     "name": "stdout",
     "output_type": "stream",
     "text": [
      "[0.33333333 0.33333333 0.33333333]\n",
      "[[0.33333333 0.33333333 0.33333333]]\n"
     ]
    }
   ],
   "source": [
    "from numpy import asarray\n",
    "from numpy import expand_dims\n",
    "p_yx = asarray([[1.0, 0.0, 0.0], [0.0, 1.0, 0.0], [0.0, 0.0, 1.0]])\n",
    "print(p_yx.mean(axis=0))\n",
    "p_y = expand_dims(p_yx.mean(axis=0), 0)\n",
    "print(p_y)"
   ]
  },
  {
   "cell_type": "code",
   "execution_count": 4,
   "metadata": {},
   "outputs": [
    {
     "ename": "TypeError",
     "evalue": "can only concatenate list (not \"int\") to list",
     "output_type": "error",
     "traceback": [
      "\u001b[0;31m---------------------------------------------------------------------------\u001b[0m",
      "\u001b[0;31mTypeError\u001b[0m                                 Traceback (most recent call last)",
      "\u001b[0;32m<ipython-input-4-ce7ef7693b55>\u001b[0m in \u001b[0;36m<module>\u001b[0;34m()\u001b[0m\n\u001b[0;32m----> 1\u001b[0;31m \u001b[0mx\u001b[0m \u001b[0;34m=\u001b[0m \u001b[0;34m[\u001b[0m\u001b[0;36m0\u001b[0m\u001b[0;34m]\u001b[0m \u001b[0;34m+\u001b[0m \u001b[0;36m1\u001b[0m\u001b[0;34m\u001b[0m\u001b[0m\n\u001b[0m\u001b[1;32m      2\u001b[0m \u001b[0mprint\u001b[0m\u001b[0;34m(\u001b[0m\u001b[0mx\u001b[0m\u001b[0;34m)\u001b[0m\u001b[0;34m\u001b[0m\u001b[0m\n",
      "\u001b[0;31mTypeError\u001b[0m: can only concatenate list (not \"int\") to list"
     ]
    }
   ],
   "source": [
    "x = [0] + 1\n",
    "print(x)"
   ]
  },
  {
   "cell_type": "code",
   "execution_count": 12,
   "metadata": {},
   "outputs": [
    {
     "name": "stdout",
     "output_type": "stream",
     "text": [
      "[[ 0  1  2  3]\n",
      " [ 4  5  6  7]\n",
      " [ 8  9 10 11]\n",
      " [12 13 14 15]\n",
      " [16 17 18 19]]\n",
      "[2.82842712 2.82842712 2.82842712 2.82842712]\n"
     ]
    }
   ],
   "source": [
    "from scipy import stats\n",
    "import numpy as np\n",
    "a = np.arange(20).reshape(5,4)\n",
    "print(a)\n",
    "x = stats.sem(a)\n",
    "print(x)"
   ]
  },
  {
   "cell_type": "code",
   "execution_count": 17,
   "metadata": {},
   "outputs": [
    {
     "name": "stdout",
     "output_type": "stream",
     "text": [
      "7\n"
     ]
    },
    {
     "ename": "TypeError",
     "evalue": "'a' is an invalid keyword argument for this function",
     "output_type": "error",
     "traceback": [
      "\u001b[0;31m---------------------------------------------------------------------------\u001b[0m",
      "\u001b[0;31mTypeError\u001b[0m                                 Traceback (most recent call last)",
      "\u001b[0;32m<ipython-input-17-8d9d22b088ec>\u001b[0m in \u001b[0;36m<module>\u001b[0;34m()\u001b[0m\n\u001b[1;32m      6\u001b[0m \u001b[0;31m#equals to print add(4, 3)\u001b[0m\u001b[0;34m\u001b[0m\u001b[0;34m\u001b[0m\u001b[0m\n\u001b[1;32m      7\u001b[0m \u001b[0mdata\u001b[0m \u001b[0;34m=\u001b[0m \u001b[0;34m{\u001b[0m\u001b[0;34m'a'\u001b[0m \u001b[0;34m:\u001b[0m \u001b[0;36m4\u001b[0m\u001b[0;34m,\u001b[0m \u001b[0;34m'b'\u001b[0m \u001b[0;34m:\u001b[0m \u001b[0;36m3\u001b[0m\u001b[0;34m}\u001b[0m\u001b[0;34m\u001b[0m\u001b[0m\n\u001b[0;32m----> 8\u001b[0;31m \u001b[0mprint\u001b[0m\u001b[0;34m(\u001b[0m\u001b[0;34m**\u001b[0m\u001b[0mdata\u001b[0m\u001b[0;34m)\u001b[0m\u001b[0;34m\u001b[0m\u001b[0m\n\u001b[0m\u001b[1;32m      9\u001b[0m \u001b[0;31m#equals to print add(4, 3)\u001b[0m\u001b[0;34m\u001b[0m\u001b[0;34m\u001b[0m\u001b[0m\n",
      "\u001b[0;31mTypeError\u001b[0m: 'a' is an invalid keyword argument for this function"
     ]
    }
   ],
   "source": [
    "def add(a, b):\n",
    "    return a+b\n",
    " \n",
    "data = [4,3]\n",
    "print(add(*data))\n",
    "#equals to print add(4, 3)\n",
    "data = {'a' : 4, 'b' : 3}\n",
    "print(**data)\n",
    "#equals to print add(4, 3)"
   ]
  },
  {
   "cell_type": "code",
   "execution_count": 22,
   "metadata": {},
   "outputs": [
    {
     "name": "stdout",
     "output_type": "stream",
     "text": [
      "Parameter containing:\n",
      "tensor([[1., 1.]], requires_grad=True)\n"
     ]
    }
   ],
   "source": [
    "import torch\n",
    "from torch import nn\n",
    "w = nn.Parameter(torch.ones([1,2]))\n",
    "print(w)"
   ]
  },
  {
   "cell_type": "code",
   "execution_count": 28,
   "metadata": {},
   "outputs": [
    {
     "name": "stdout",
     "output_type": "stream",
     "text": [
      "0 Parameter containing:\n",
      "tensor([[-0.0198,  0.7615, -0.7641, -0.2023, -0.2212,  1.1269, -1.0545, -1.6453,\n",
      "         -1.2983, -0.5956],\n",
      "        [-1.2760,  0.3939, -0.9067,  1.5225,  0.2377, -1.7863,  0.0574, -0.3339,\n",
      "         -0.0404, -2.7752],\n",
      "        [-0.2210, -0.0331, -0.2679, -0.0910,  1.0884, -0.3269,  0.3818,  0.1337,\n",
      "          1.5841,  3.4552],\n",
      "        [ 2.1289,  0.9160, -0.4376, -0.2786, -2.2149, -0.4226, -0.1902,  0.8264,\n",
      "          0.0519,  1.3834],\n",
      "        [ 0.0118,  2.1637, -2.5483, -0.9233,  0.6790, -0.2196, -1.1604,  1.3392,\n",
      "         -0.7858,  0.0613],\n",
      "        [ 0.5584, -0.9965, -0.1538,  1.0422, -0.9016,  2.2447, -1.3037, -1.8434,\n",
      "          1.6964, -0.5821],\n",
      "        [ 0.6068, -0.8544, -1.5696, -1.3511, -1.6181,  0.8792, -0.3548, -0.1333,\n",
      "         -0.6108,  0.4364],\n",
      "        [ 1.4269,  0.6008, -0.5121,  1.3998, -1.2835, -0.0333,  1.7100,  0.9238,\n",
      "         -1.1099, -0.6204],\n",
      "        [-0.0497, -0.0463,  0.9518, -0.6418, -1.4971,  0.2120,  0.2596, -0.4470,\n",
      "         -1.1604,  0.2265],\n",
      "        [ 2.0907, -0.5327,  0.3157, -0.3524,  1.0797,  0.6557, -0.2909, -0.2417,\n",
      "          1.3201, -1.2306]], requires_grad=True)\n",
      "1 Parameter containing:\n",
      "tensor([[-3.4505e-01, -5.5227e-01, -1.1833e-01, -1.4290e-01,  6.2258e-01,\n",
      "         -1.3503e+00,  1.5689e-01, -5.3628e-01,  7.4640e-01,  7.6533e-01],\n",
      "        [ 9.8489e-01, -1.4570e+00, -1.9886e+00,  1.0042e+00, -1.5106e-01,\n",
      "         -8.8443e-01,  2.7642e-01,  9.2061e-01, -4.6574e-02, -4.1660e-01],\n",
      "        [ 3.7740e-01,  2.4095e-01,  1.6334e+00, -1.2059e+00, -1.1109e+00,\n",
      "         -1.1343e-01,  1.5303e-01,  1.1267e+00, -2.0225e-01,  1.0816e+00],\n",
      "        [ 4.3155e-01,  4.3171e-01, -6.2063e-03, -7.8317e-01,  1.2059e+00,\n",
      "         -3.4918e-01, -6.7687e-01, -2.3909e-01,  1.9901e-01, -1.0230e+00],\n",
      "        [ 1.2156e+00,  3.2686e-01, -2.3894e+00, -1.3040e+00, -4.8687e-01,\n",
      "         -8.4288e-01, -3.0685e-01, -1.3982e+00,  6.8466e-02, -1.8852e+00],\n",
      "        [-4.4656e-01, -1.2318e+00, -1.3682e+00, -1.7116e+00,  9.5826e-01,\n",
      "         -2.2664e-01, -9.1954e-01, -1.3271e-01,  5.2140e-01, -7.3491e-02],\n",
      "        [-1.9339e-01,  1.7838e+00,  7.4389e-01,  1.6853e-01,  5.4022e-01,\n",
      "          1.5067e+00, -6.1350e-01,  1.9743e-01, -5.4780e-01,  1.4087e+00],\n",
      "        [-2.9176e-01, -1.1970e+00,  1.9976e+00, -2.9189e-01, -9.7849e-02,\n",
      "          2.9547e-01, -3.4598e-01,  7.5588e-01, -1.1025e+00, -4.7997e-01],\n",
      "        [ 4.8574e-01,  3.7976e-01,  1.7988e+00, -2.4005e-01, -7.2551e-04,\n",
      "         -9.3474e-01, -4.0932e-01, -3.9459e-01, -9.0814e-01, -2.7302e-01],\n",
      "        [ 4.4079e-01,  8.7931e-01, -8.2781e-01,  2.3579e-02, -6.8383e-01,\n",
      "         -9.0021e-01,  3.7203e-01,  4.4149e-01,  7.4619e-01,  1.7557e+00]],\n",
      "       requires_grad=True)\n",
      "2 Parameter containing:\n",
      "tensor([[-6.4354e-01,  9.4950e-01,  5.0821e-02,  4.9585e-01, -2.4242e+00,\n",
      "          7.9456e-01, -1.2273e+00,  4.7450e-01, -6.6323e-01,  2.0930e-03],\n",
      "        [-6.4220e-02, -1.9207e+00,  3.5049e-01,  7.9797e-01,  6.5775e-01,\n",
      "         -8.9457e-01,  1.2864e-01, -2.3448e-02,  4.3660e-01, -1.6573e-02],\n",
      "        [-1.1415e+00,  2.2691e-01, -6.0482e-02,  8.6851e-01, -8.2656e-01,\n",
      "         -1.5470e+00,  6.2730e-01, -7.9373e-01,  3.3697e-01,  2.4554e+00],\n",
      "        [ 2.0069e+00, -5.7834e-01,  1.0228e+00,  3.9375e-01,  1.2033e+00,\n",
      "         -5.4073e-01, -6.9191e-01,  6.4523e-01,  1.1576e+00, -6.6694e-01],\n",
      "        [ 9.6339e-01,  8.9002e-01, -6.0245e-01,  2.9022e-01,  1.5695e+00,\n",
      "          5.4106e-01,  1.7527e+00, -1.1468e-01,  1.0223e-01,  8.7545e-01],\n",
      "        [ 2.5865e-02,  1.5609e-01,  2.0640e+00,  1.2645e+00, -3.4983e-02,\n",
      "         -8.4347e-01, -1.7448e+00,  6.0837e-01, -4.9887e-01,  4.5002e-01],\n",
      "        [ 6.8191e-01, -1.2253e+00,  8.0483e-01,  1.9009e+00,  1.3005e+00,\n",
      "         -1.1556e+00,  5.5719e-01, -1.2151e+00, -3.5936e-01,  7.7234e-01],\n",
      "        [-8.4662e-01,  2.0698e+00,  5.8267e-01, -6.4067e-01, -9.2155e-02,\n",
      "         -9.5601e-01, -1.0195e+00,  8.6802e-01,  1.2741e+00,  1.3444e+00],\n",
      "        [ 4.1467e-01, -1.1799e+00,  5.8464e-01, -1.8449e-02, -6.3689e-03,\n",
      "          9.4155e-01,  1.3596e-01, -1.0316e-01,  8.5705e-01, -8.7821e-01],\n",
      "        [ 3.1355e-01, -2.2793e-02, -5.7906e-01, -2.3926e-01, -8.8356e-02,\n",
      "          1.5332e+00, -3.6219e-03, -6.9316e-01, -5.7772e-01,  8.8490e-01]],\n",
      "       requires_grad=True)\n",
      "3 Parameter containing:\n",
      "tensor([[-2.6555, -0.6742, -1.1546, -0.2697, -0.6483, -0.0276,  0.2359, -0.2015,\n",
      "          0.7225, -1.0597],\n",
      "        [ 0.6235, -0.4373,  0.9636,  0.6140, -0.0060, -0.8436,  0.2825, -0.0544,\n",
      "          0.1667, -1.6433],\n",
      "        [-0.3154,  1.1550,  1.0285,  0.2019,  1.1732, -0.8163, -0.9451, -2.1566,\n",
      "          0.7117,  0.2280],\n",
      "        [ 1.1035,  0.6019, -0.4902, -0.9131,  0.0546, -1.4169, -1.1979,  0.5732,\n",
      "         -0.2699,  0.9791],\n",
      "        [-0.4073, -1.1963,  0.2588, -0.6465,  0.6283, -0.1591, -0.5021, -0.0592,\n",
      "          0.5492, -0.5780],\n",
      "        [ 0.2724, -1.3062, -1.3257,  1.4807, -0.4141, -0.6622,  0.4708,  0.9212,\n",
      "          0.1430,  0.4103],\n",
      "        [-1.2060,  0.8540,  0.6853, -0.2564, -0.5114,  1.0185, -0.2651, -0.5993,\n",
      "         -0.8557, -0.6840],\n",
      "        [-0.9352,  2.0879,  0.2740, -0.7566,  0.3500,  0.9118,  1.0573,  1.3061,\n",
      "          1.7119, -0.4167],\n",
      "        [-0.3618,  0.7320, -0.8102,  0.6922, -2.3712, -0.3717,  0.4183,  1.9990,\n",
      "         -0.5837, -0.4289],\n",
      "        [ 0.4761, -0.8882,  0.1893,  2.1439,  0.2453,  0.5240, -0.3857,  0.7573,\n",
      "         -0.3617, -0.4659]], requires_grad=True)\n",
      "4 Parameter containing:\n",
      "tensor([[-0.7060,  1.3347,  0.6981,  0.0225, -1.3909,  0.7164,  1.6329,  1.3230,\n",
      "         -0.6107,  0.6567],\n",
      "        [ 0.2741, -1.0949, -1.1890,  0.1896, -1.8549,  0.6673,  0.5494,  0.9265,\n",
      "         -1.2571,  0.6374],\n",
      "        [ 0.2318, -0.0950, -0.6693, -0.3187, -0.0697, -0.7029,  1.3951, -1.5244,\n",
      "         -0.7104, -0.8889],\n",
      "        [ 0.2648, -0.7963,  1.0270, -2.1794, -0.3153,  1.0657, -0.8777, -1.7464,\n",
      "          0.3837,  0.6029],\n",
      "        [-0.3713,  1.3497, -0.2768,  0.4070, -0.1223, -1.2856, -1.2862, -0.8151,\n",
      "         -0.5956,  0.3728],\n",
      "        [-0.5463,  0.1232, -0.8170,  0.9901,  0.7320, -0.3412,  0.1697, -0.0981,\n",
      "          0.3327, -0.6759],\n",
      "        [-1.1342,  1.6674, -0.0741,  1.3823,  0.5514, -0.9056, -0.3113,  1.2326,\n",
      "         -0.4064, -0.4532],\n",
      "        [ 1.6040,  0.4454, -1.3307, -0.0662,  0.2708,  0.1516,  1.6467,  0.1558,\n",
      "         -0.3629, -0.5330],\n",
      "        [-0.1279, -0.3215,  0.6111, -1.3638,  0.6531,  0.9307, -0.6600,  0.4857,\n",
      "         -0.1426,  0.9391],\n",
      "        [-0.6730, -0.2186, -0.7020, -0.8056,  1.3305, -0.1761,  1.8639, -0.4609,\n",
      "          2.5709,  0.4435]], requires_grad=True)\n",
      "5 Parameter containing:\n",
      "tensor([[-0.2118, -0.0732, -0.4079, -0.9987, -0.9995, -1.0268,  0.4577, -0.0738,\n",
      "         -0.3435, -0.7629],\n",
      "        [ 1.5983,  0.4066, -0.1012, -0.8033,  1.0509, -0.2922,  1.7999, -1.2571,\n",
      "         -0.8879, -1.0267],\n",
      "        [ 0.2142, -0.0988, -0.5439, -0.0143,  1.1675, -2.0322, -0.2648,  0.5462,\n",
      "          0.3625, -0.3849],\n",
      "        [-0.2738, -0.5423,  2.7395, -0.9394, -0.1995,  0.5561, -1.8701, -0.3942,\n",
      "          2.0551,  0.7864],\n",
      "        [-0.4071, -1.1454,  0.6884, -0.3547,  1.1163, -0.9700, -0.2977, -0.2695,\n",
      "          0.5248, -1.2441],\n",
      "        [ 0.8159, -0.3711, -0.2541, -0.7288,  0.2034,  0.0481,  0.1900,  1.1721,\n",
      "         -0.6458,  0.5792],\n",
      "        [-0.0697, -0.8009,  0.6097,  1.2078,  0.1362, -1.1044,  0.8823, -0.4778,\n",
      "         -1.2182, -1.6416],\n",
      "        [ 0.8167,  0.4245,  0.8194,  1.2480, -0.2020, -1.7624, -0.4206, -0.3105,\n",
      "         -1.1649,  0.5020],\n",
      "        [ 1.1913, -1.8071, -2.2046, -1.0867, -0.2034, -0.3837, -1.3675, -0.5829,\n",
      "          0.0423,  0.5217],\n",
      "        [-0.8697, -0.2708,  0.7712,  0.4549,  0.3435,  0.5175, -1.0087,  0.4352,\n",
      "         -1.7845,  0.0448]], requires_grad=True)\n",
      "6 Parameter containing:\n",
      "tensor([[ 1.2742, -0.4469, -1.2286,  1.3641, -0.2724, -0.6608, -1.0018,  1.8132,\n",
      "          1.2748, -0.7888],\n",
      "        [-0.9813, -0.9663, -1.3135,  0.2428,  2.1355, -1.0784, -0.3782, -0.1076,\n",
      "          1.3146, -0.0846],\n",
      "        [-1.2397,  0.3374,  0.9683,  0.5750, -0.7651,  0.2459, -0.3910, -1.4279,\n",
      "          0.2186, -1.3475],\n",
      "        [ 0.7991,  0.9724,  0.2263, -0.5001,  0.3887, -0.6220, -0.1433,  1.6707,\n",
      "          1.2536, -0.9560],\n",
      "        [-0.3102, -0.6471,  0.4832, -0.5754,  1.3590, -0.5020,  0.1140,  0.5477,\n",
      "          1.5372,  0.6681],\n",
      "        [ 0.0282,  0.6538,  2.0848, -0.1186, -0.5002,  0.2429,  0.2623,  1.2217,\n",
      "          0.1075, -0.9637],\n",
      "        [ 0.3580,  0.2149, -0.9316, -0.8757, -0.2533, -0.7433, -0.2216,  0.5714,\n",
      "          0.2874,  1.3971],\n",
      "        [-1.6304, -2.6206, -1.1771, -0.5339,  1.4879, -0.0433, -0.3424,  2.1264,\n",
      "         -0.1269,  0.9053],\n",
      "        [ 1.0286, -0.4270,  0.7845, -1.5404,  0.5522,  1.4451,  1.1369, -0.6169,\n",
      "         -0.2080,  2.3171],\n",
      "        [ 0.1646,  0.3347, -0.0842, -0.6618,  0.0501, -0.6791,  0.8087, -0.0091,\n",
      "         -1.6781, -0.8644]], requires_grad=True)\n",
      "7 Parameter containing:\n",
      "tensor([[ 4.3619e-01,  2.9720e-01, -1.8493e-01, -5.9055e-01, -2.2857e-01,\n",
      "          1.4359e+00,  8.5601e-01, -4.1931e-01, -4.7805e-01,  1.1171e+00],\n",
      "        [ 6.5599e-01,  1.0009e+00, -7.4472e-01, -1.4315e-01, -8.1645e-02,\n",
      "          1.1603e-03, -3.0215e+00, -9.5394e-01, -1.8062e+00, -2.2599e-01],\n",
      "        [ 9.0211e-01,  3.8187e-01, -7.1281e-01, -1.4835e+00, -2.1874e-01,\n",
      "         -1.0456e+00,  3.1947e-01, -4.4199e-02,  1.0089e+00, -1.2074e-01],\n",
      "        [-2.4124e-01,  1.2385e-01,  1.6189e+00, -1.3624e+00, -8.6107e-01,\n",
      "         -2.3128e-01, -6.5090e-01,  1.1933e-01, -3.6508e-01, -5.4947e-01],\n",
      "        [ 2.4289e-01,  6.7868e-02, -5.0257e-01, -2.4026e+00,  3.5551e-01,\n",
      "         -7.4874e-02,  3.2202e-01, -7.2684e-01, -1.4893e+00, -1.8328e-01],\n",
      "        [ 1.7694e+00,  1.6091e+00,  2.8123e-01, -1.4768e+00, -1.3001e+00,\n",
      "         -4.0867e-01,  3.9061e-01,  5.0746e-01,  7.0750e-01, -8.2032e-02],\n",
      "        [-1.2367e-01, -1.0721e+00,  2.3793e+00, -7.0017e-01,  1.3173e+00,\n",
      "          6.1633e-01,  6.3745e-01,  9.2384e-01,  8.7756e-01, -6.7105e-01],\n",
      "        [ 8.9395e-01,  1.3776e+00, -1.3168e+00, -5.8292e-01,  1.3747e+00,\n",
      "         -1.4940e+00, -6.1670e-01,  3.5739e-01,  1.9625e+00,  6.3610e-01],\n",
      "        [ 1.2122e+00, -5.0604e-02, -2.3911e+00, -1.4237e+00,  4.3126e-01,\n",
      "         -2.9900e-01,  1.2803e+00, -1.7973e+00,  2.0129e-01, -9.4245e-01],\n",
      "        [ 7.2115e-01, -1.3713e+00, -2.4291e-01, -1.6385e+00,  1.0137e+00,\n",
      "         -1.3677e+00, -4.9056e-02, -1.0528e+00,  4.2012e-01, -3.7784e-01]],\n",
      "       requires_grad=True)\n",
      "8 Parameter containing:\n",
      "tensor([[ 0.9621,  0.4055,  0.6449, -0.7530,  0.0421, -1.3794, -1.1225,  0.3249,\n",
      "         -0.3679,  0.2563],\n",
      "        [-0.3022, -1.2710, -1.7880, -0.9531,  0.4450,  0.3396,  1.0848, -0.2219,\n",
      "         -1.5176,  1.2282],\n",
      "        [ 1.7200, -0.4892, -1.9528, -0.0091, -0.5438,  0.8107,  1.6311,  0.1975,\n",
      "          0.8200,  0.9771],\n",
      "        [-0.3616, -0.7373,  0.2765, -0.4485, -1.3922, -0.6057, -1.0366, -1.1734,\n",
      "          0.1371, -1.4306],\n",
      "        [ 0.1318,  0.1211, -1.2323,  0.9689,  0.0200,  0.8745, -1.2404, -0.8295,\n",
      "          0.3109, -1.9420],\n",
      "        [ 0.4133,  1.0954, -0.8578, -2.0626, -0.4181,  0.8776,  0.8069, -1.7985,\n",
      "         -1.3259,  0.5598],\n",
      "        [ 1.5607, -0.9262, -1.2625,  0.9877,  1.4092, -0.9515,  0.8506, -0.3545,\n",
      "          0.9541, -0.2170],\n",
      "        [ 0.2465, -1.4338,  0.7362,  0.5033,  0.5903, -0.1622,  0.1558, -1.3422,\n",
      "          0.0590,  0.8621],\n",
      "        [ 1.2830,  1.9874, -0.3745, -1.3029, -0.9157,  0.2875,  1.7861, -1.5407,\n",
      "         -1.5613,  0.3261],\n",
      "        [ 0.7266,  0.6936, -1.5072, -0.6160,  2.2075, -0.2928, -0.4248,  0.7789,\n",
      "          0.3313,  0.0702]], requires_grad=True)\n",
      "9 Parameter containing:\n",
      "tensor([[-0.6173, -0.5634, -0.1136,  1.4054,  0.5930, -0.1252,  0.0117,  0.7645,\n",
      "          0.2067, -1.0510],\n",
      "        [-0.6855,  0.7927,  0.3027, -0.1172,  0.3873,  1.3669, -2.7580, -0.2677,\n",
      "          0.8481,  0.9067],\n",
      "        [ 1.4712, -0.2830, -0.5301, -0.8123,  1.5428, -1.3453,  0.1523,  0.6143,\n",
      "          0.4019,  0.2642],\n",
      "        [ 0.5145,  0.7802, -0.7659, -1.5678, -1.5871,  0.2435, -0.5668,  0.0326,\n",
      "          0.7639, -0.4035],\n",
      "        [ 0.9497, -0.4877,  0.6777,  0.1698,  0.1169, -1.7077, -0.6427,  0.1733,\n",
      "         -1.7771,  0.7624],\n",
      "        [-0.6502, -0.5827, -0.0750,  0.7134, -0.0751,  0.3089,  1.3552, -0.3570,\n",
      "          0.3707,  1.4312],\n",
      "        [ 0.1148, -1.2698, -1.2645,  1.0569,  0.2894,  0.7710, -1.0548, -0.7667,\n",
      "          0.5110,  0.1276],\n",
      "        [-0.0103,  0.5010,  0.6812, -0.4034,  1.0512, -0.7220,  0.7775,  0.8907,\n",
      "         -0.7197,  1.8365],\n",
      "        [ 0.6864, -0.7719,  0.7694, -0.2876,  1.1447,  0.1344,  0.4966, -0.1924,\n",
      "          1.8800, -2.4956],\n",
      "        [-0.3093, -1.6656, -0.7572,  0.4281, -0.3054,  0.8323,  0.0323, -0.9727,\n",
      "          0.1078, -1.2921]], requires_grad=True)\n"
     ]
    }
   ],
   "source": [
    "params = nn.ParameterList([nn.Parameter(torch.randn(10, 10)) for i in range(10)])\n",
    "for i, p in enumerate(params):\n",
    "    print(i, p)"
   ]
  },
  {
   "cell_type": "code",
   "execution_count": 27,
   "metadata": {},
   "outputs": [],
   "source": [
    "class MyModule(nn.Module):\n",
    "    def __init__(self):\n",
    "        super(MyModule, self).__init__()\n",
    "        self.params = nn.ParameterList([nn.Parameter(torch.randn(10, 10)) for i in range(10)])\n",
    "        for i, p in enumerate(self.params):\n",
    "            print(i, p)\n",
    "\n",
    "    def forward(self, x):\n",
    "        # ParameterList can act as an iterable, or be indexed using ints\n",
    "        for i, p in enumerate(self.params):\n",
    "            x = self.params[i // 2].mm(x) + p.mm(x)\n",
    "        return x"
   ]
  },
  {
   "cell_type": "code",
   "execution_count": 26,
   "metadata": {},
   "outputs": [
    {
     "name": "stdout",
     "output_type": "stream",
     "text": [
      "MyModule(\n",
      "  (params): ParameterList(\n",
      "      (0): Parameter containing: [torch.FloatTensor of size 10x10]\n",
      "      (1): Parameter containing: [torch.FloatTensor of size 10x10]\n",
      "      (2): Parameter containing: [torch.FloatTensor of size 10x10]\n",
      "      (3): Parameter containing: [torch.FloatTensor of size 10x10]\n",
      "      (4): Parameter containing: [torch.FloatTensor of size 10x10]\n",
      "      (5): Parameter containing: [torch.FloatTensor of size 10x10]\n",
      "      (6): Parameter containing: [torch.FloatTensor of size 10x10]\n",
      "      (7): Parameter containing: [torch.FloatTensor of size 10x10]\n",
      "      (8): Parameter containing: [torch.FloatTensor of size 10x10]\n",
      "      (9): Parameter containing: [torch.FloatTensor of size 10x10]\n",
      "  )\n",
      ")\n"
     ]
    }
   ],
   "source": [
    "net = MyModule()\n",
    "print(net)"
   ]
  },
  {
   "cell_type": "code",
   "execution_count": 31,
   "metadata": {},
   "outputs": [
    {
     "data": {
      "text/plain": [
       "0"
      ]
     },
     "execution_count": 31,
     "metadata": {},
     "output_type": "execute_result"
    }
   ],
   "source": [
    "1//2"
   ]
  },
  {
   "cell_type": "code",
   "execution_count": 33,
   "metadata": {},
   "outputs": [
    {
     "name": "stdout",
     "output_type": "stream",
     "text": [
      "0\n"
     ]
    }
   ],
   "source": [
    "import random\n",
    "x = random.randint(0,0)\n",
    "print(x)"
   ]
  },
  {
   "cell_type": "code",
   "execution_count": 2,
   "metadata": {},
   "outputs": [
    {
     "name": "stdout",
     "output_type": "stream",
     "text": [
      "torch.Size([1, 3])\n",
      "tensor([[1, 1, 1]], dtype=torch.int32)\n"
     ]
    }
   ],
   "source": [
    "import torch\n",
    "x = torch.ones([1,3], dtype=torch.int32)\n",
    "print(x.shape)\n",
    "print(x)"
   ]
  },
  {
   "cell_type": "code",
   "execution_count": 3,
   "metadata": {},
   "outputs": [
    {
     "name": "stdout",
     "output_type": "stream",
     "text": [
      "torch.Size([1, 1, 6])\n"
     ]
    }
   ],
   "source": [
    "xx_range = torch.arange(6, dtype=torch.int32).unsqueeze(0)\n",
    "xx_range = xx_range.unsqueeze(1)\n",
    "print(xx_range.shape)"
   ]
  },
  {
   "cell_type": "code",
   "execution_count": 27,
   "metadata": {},
   "outputs": [],
   "source": [
    "import torch\n",
    "import torch.nn as nn\n",
    "\n",
    "\n",
    "class AddCoordsTh(nn.Module):\n",
    "    def __init__(self, x_dim=64, y_dim=64, with_r=False):\n",
    "        super(AddCoordsTh, self).__init__()\n",
    "        self.x_dim = x_dim\n",
    "        self.y_dim = y_dim\n",
    "        self.with_r = with_r\n",
    "\n",
    "    def forward(self, input_tensor):\n",
    "        \"\"\"\n",
    "        input_tensor: (batch, c, x_dim, y_dim)\n",
    "        \"\"\"\n",
    "        batch_size_tensor = input_tensor.shape[0]\n",
    "\n",
    "        xx_ones = torch.ones([1, self.y_dim], dtype=torch.int32)\n",
    "        xx_ones = xx_ones.unsqueeze(-1)\n",
    "\n",
    "        xx_range = torch.arange(self.x_dim, dtype=torch.int32).unsqueeze(0)\n",
    "        xx_range = xx_range.unsqueeze(1)\n",
    "\n",
    "        xx_channel = torch.matmul(xx_ones, xx_range)\n",
    "        xx_channel = xx_channel.unsqueeze(-1)\n",
    "        print(xx_channel, xx_channel.shape)\n",
    "\n",
    "        yy_ones = torch.ones([1, self.x_dim], dtype=torch.int32)\n",
    "        yy_ones = yy_ones.unsqueeze(1)\n",
    "\n",
    "        yy_range = torch.arange(self.y_dim, dtype=torch.int32).unsqueeze(0)\n",
    "        yy_range = yy_range.unsqueeze(-1)\n",
    "\n",
    "        yy_channel = torch.matmul(yy_range, yy_ones)\n",
    "        yy_channel = yy_channel.unsqueeze(-1)\n",
    "        print(yy_channel, yy_channel.shape)\n",
    "\n",
    "        xx_channel = xx_channel.permute(0, 3, 2, 1)\n",
    "        yy_channel = yy_channel.permute(0, 3, 2, 1)\n",
    "        print(xx_channel, xx_channel.shape)\n",
    "        print(yy_channel, yy_channel.shape)\n",
    "\n",
    "        xx_channel = xx_channel.float() / (self.x_dim - 1)\n",
    "        yy_channel = yy_channel.float() / (self.y_dim - 1)\n",
    "\n",
    "        xx_channel = xx_channel * 2 - 1\n",
    "        yy_channel = yy_channel * 2 - 1\n",
    "\n",
    "        xx_channel = xx_channel.repeat(batch_size_tensor, 1, 1, 1)\n",
    "        yy_channel = yy_channel.repeat(batch_size_tensor, 1, 1, 1)\n",
    "        print(xx_channel, xx_channel.shape)\n",
    "        print(yy_channel, yy_channel.shape)\n",
    "\n",
    "        ret = torch.cat([input_tensor, xx_channel, yy_channel], dim=1)\n",
    "\n",
    "        if self.with_r:\n",
    "            rr = torch.sqrt(torch.pow(xx_channel - 0.5, 2) + torch.pow(yy_channel - 0.5, 2))\n",
    "            ret = torch.cat([ret, rr], dim=1)\n",
    "\n",
    "        return ret\n",
    "\n",
    "\n",
    "class CoordConvTh(nn.Module):\n",
    "    \"\"\"CoordConv layer as in the paper.\"\"\"\n",
    "    def __init__(self, x_dim, y_dim, with_r, *args, **kwargs):\n",
    "        super(CoordConvTh, self).__init__()\n",
    "        self.addcoords = AddCoordsTh(x_dim=x_dim, y_dim=y_dim, with_r=with_r)\n",
    "\n",
    "    def forward(self, input_tensor):\n",
    "        ret = self.addcoords(input_tensor)\n",
    "        return ret"
   ]
  },
  {
   "cell_type": "code",
   "execution_count": 28,
   "metadata": {},
   "outputs": [
    {
     "name": "stdout",
     "output_type": "stream",
     "text": [
      "tensor([[[[0],\n",
      "          [1],\n",
      "          [2],\n",
      "          [3],\n",
      "          [4],\n",
      "          [5]],\n",
      "\n",
      "         [[0],\n",
      "          [1],\n",
      "          [2],\n",
      "          [3],\n",
      "          [4],\n",
      "          [5]],\n",
      "\n",
      "         [[0],\n",
      "          [1],\n",
      "          [2],\n",
      "          [3],\n",
      "          [4],\n",
      "          [5]],\n",
      "\n",
      "         [[0],\n",
      "          [1],\n",
      "          [2],\n",
      "          [3],\n",
      "          [4],\n",
      "          [5]]]], dtype=torch.int32) torch.Size([1, 4, 6, 1])\n",
      "tensor([[[[0],\n",
      "          [0],\n",
      "          [0],\n",
      "          [0],\n",
      "          [0],\n",
      "          [0]],\n",
      "\n",
      "         [[1],\n",
      "          [1],\n",
      "          [1],\n",
      "          [1],\n",
      "          [1],\n",
      "          [1]],\n",
      "\n",
      "         [[2],\n",
      "          [2],\n",
      "          [2],\n",
      "          [2],\n",
      "          [2],\n",
      "          [2]],\n",
      "\n",
      "         [[3],\n",
      "          [3],\n",
      "          [3],\n",
      "          [3],\n",
      "          [3],\n",
      "          [3]]]], dtype=torch.int32) torch.Size([1, 4, 6, 1])\n",
      "tensor([[[[0, 0, 0, 0],\n",
      "          [1, 1, 1, 1],\n",
      "          [2, 2, 2, 2],\n",
      "          [3, 3, 3, 3],\n",
      "          [4, 4, 4, 4],\n",
      "          [5, 5, 5, 5]]]], dtype=torch.int32) torch.Size([1, 1, 6, 4])\n",
      "tensor([[[[0, 1, 2, 3],\n",
      "          [0, 1, 2, 3],\n",
      "          [0, 1, 2, 3],\n",
      "          [0, 1, 2, 3],\n",
      "          [0, 1, 2, 3],\n",
      "          [0, 1, 2, 3]]]], dtype=torch.int32) torch.Size([1, 1, 6, 4])\n",
      "tensor([[[[-1.0000, -1.0000, -1.0000, -1.0000],\n",
      "          [-0.6000, -0.6000, -0.6000, -0.6000],\n",
      "          [-0.2000, -0.2000, -0.2000, -0.2000],\n",
      "          [ 0.2000,  0.2000,  0.2000,  0.2000],\n",
      "          [ 0.6000,  0.6000,  0.6000,  0.6000],\n",
      "          [ 1.0000,  1.0000,  1.0000,  1.0000]]],\n",
      "\n",
      "\n",
      "        [[[-1.0000, -1.0000, -1.0000, -1.0000],\n",
      "          [-0.6000, -0.6000, -0.6000, -0.6000],\n",
      "          [-0.2000, -0.2000, -0.2000, -0.2000],\n",
      "          [ 0.2000,  0.2000,  0.2000,  0.2000],\n",
      "          [ 0.6000,  0.6000,  0.6000,  0.6000],\n",
      "          [ 1.0000,  1.0000,  1.0000,  1.0000]]],\n",
      "\n",
      "\n",
      "        [[[-1.0000, -1.0000, -1.0000, -1.0000],\n",
      "          [-0.6000, -0.6000, -0.6000, -0.6000],\n",
      "          [-0.2000, -0.2000, -0.2000, -0.2000],\n",
      "          [ 0.2000,  0.2000,  0.2000,  0.2000],\n",
      "          [ 0.6000,  0.6000,  0.6000,  0.6000],\n",
      "          [ 1.0000,  1.0000,  1.0000,  1.0000]]]]) torch.Size([3, 1, 6, 4])\n",
      "tensor([[[[-1.0000, -0.3333,  0.3333,  1.0000],\n",
      "          [-1.0000, -0.3333,  0.3333,  1.0000],\n",
      "          [-1.0000, -0.3333,  0.3333,  1.0000],\n",
      "          [-1.0000, -0.3333,  0.3333,  1.0000],\n",
      "          [-1.0000, -0.3333,  0.3333,  1.0000],\n",
      "          [-1.0000, -0.3333,  0.3333,  1.0000]]],\n",
      "\n",
      "\n",
      "        [[[-1.0000, -0.3333,  0.3333,  1.0000],\n",
      "          [-1.0000, -0.3333,  0.3333,  1.0000],\n",
      "          [-1.0000, -0.3333,  0.3333,  1.0000],\n",
      "          [-1.0000, -0.3333,  0.3333,  1.0000],\n",
      "          [-1.0000, -0.3333,  0.3333,  1.0000],\n",
      "          [-1.0000, -0.3333,  0.3333,  1.0000]]],\n",
      "\n",
      "\n",
      "        [[[-1.0000, -0.3333,  0.3333,  1.0000],\n",
      "          [-1.0000, -0.3333,  0.3333,  1.0000],\n",
      "          [-1.0000, -0.3333,  0.3333,  1.0000],\n",
      "          [-1.0000, -0.3333,  0.3333,  1.0000],\n",
      "          [-1.0000, -0.3333,  0.3333,  1.0000],\n",
      "          [-1.0000, -0.3333,  0.3333,  1.0000]]]]) torch.Size([3, 1, 6, 4])\n",
      "torch.Size([3, 5, 6, 4])\n"
     ]
    }
   ],
   "source": [
    "net = CoordConvTh(6, 4, with_r=False)\n",
    "x = torch.randn(3, 3, 6, 4)\n",
    "y = net(x)\n",
    "print(y.shape)"
   ]
  },
  {
   "cell_type": "code",
   "execution_count": 31,
   "metadata": {},
   "outputs": [
    {
     "name": "stdout",
     "output_type": "stream",
     "text": [
      "tensor([2, 6])\n"
     ]
    }
   ],
   "source": [
    "import numpy\n",
    "x = torch.tensor([0, 2])\n",
    "down = numpy.array([2, 3, 6, 2])\n",
    "y = down[x]\n",
    "print(torch.tensor(y))"
   ]
  },
  {
   "cell_type": "code",
   "execution_count": 35,
   "metadata": {},
   "outputs": [
    {
     "name": "stdout",
     "output_type": "stream",
     "text": [
      "torch.Size([16, 1, 7])\n"
     ]
    }
   ],
   "source": [
    "x = torch.randn(16, 7, 7)\n",
    "y = torch.randn(16, 1, 7)\n",
    "z = torch.matmul(y,x)\n",
    "print(z.shape)"
   ]
  },
  {
   "cell_type": "code",
   "execution_count": 41,
   "metadata": {},
   "outputs": [
    {
     "name": "stdout",
     "output_type": "stream",
     "text": [
      "tensor([[[ 1,  3],\n",
      "         [ 1,  9]],\n",
      "\n",
      "        [[ 2,  4],\n",
      "         [ 4, 16]]])\n"
     ]
    }
   ],
   "source": [
    "x = torch.tensor([[1, 3], [2, 4]])\n",
    "x = x.unsqueeze(1)\n",
    "y = torch.cat([x, pow(x, 2)], dim=1)\n",
    "print(y)"
   ]
  },
  {
   "cell_type": "code",
   "execution_count": 42,
   "metadata": {},
   "outputs": [],
   "source": [
    "x = torch.tensor([[2,3],[4,5]])\n",
    "y = pow(x, 2)"
   ]
  },
  {
   "cell_type": "code",
   "execution_count": 43,
   "metadata": {},
   "outputs": [
    {
     "name": "stdout",
     "output_type": "stream",
     "text": [
      "tensor([[ 4,  9],\n",
      "        [16, 25]])\n"
     ]
    }
   ],
   "source": [
    "print(y)"
   ]
  },
  {
   "cell_type": "code",
   "execution_count": 48,
   "metadata": {},
   "outputs": [
    {
     "name": "stdout",
     "output_type": "stream",
     "text": [
      "[0 1 2 3 4]\n"
     ]
    }
   ],
   "source": [
    "x = numpy.arange(5)\n",
    "print(x)"
   ]
  },
  {
   "cell_type": "code",
   "execution_count": 50,
   "metadata": {},
   "outputs": [
    {
     "name": "stdout",
     "output_type": "stream",
     "text": [
      "0\n",
      "1\n",
      "2\n",
      "3\n",
      "4\n"
     ]
    }
   ],
   "source": [
    "for i in range(5):\n",
    "    print(i)"
   ]
  },
  {
   "cell_type": "code",
   "execution_count": 55,
   "metadata": {},
   "outputs": [
    {
     "ename": "ValueError",
     "evalue": "Type must be a sub-type of ndarray type",
     "output_type": "error",
     "traceback": [
      "\u001b[0;31m---------------------------------------------------------------------------\u001b[0m",
      "\u001b[0;31mValueError\u001b[0m                                Traceback (most recent call last)",
      "\u001b[0;32m<ipython-input-55-7b2551eba3b9>\u001b[0m in \u001b[0;36m<module>\u001b[0;34m()\u001b[0m\n\u001b[1;32m      1\u001b[0m \u001b[0mx\u001b[0m \u001b[0;34m=\u001b[0m \u001b[0mnumpy\u001b[0m\u001b[0;34m.\u001b[0m\u001b[0marray\u001b[0m\u001b[0;34m(\u001b[0m\u001b[0;34m[\u001b[0m\u001b[0;36m1\u001b[0m\u001b[0;34m,\u001b[0m\u001b[0;36m2\u001b[0m\u001b[0;34m,\u001b[0m\u001b[0;36m3\u001b[0m\u001b[0;34m,\u001b[0m\u001b[0;36m4\u001b[0m\u001b[0;34m,\u001b[0m\u001b[0;36m5\u001b[0m\u001b[0;34m,\u001b[0m\u001b[0;36m6\u001b[0m\u001b[0;34m]\u001b[0m\u001b[0;34m,\u001b[0m \u001b[0mdtype\u001b[0m\u001b[0;34m=\u001b[0m\u001b[0mnumpy\u001b[0m\u001b[0;34m.\u001b[0m\u001b[0mint8\u001b[0m\u001b[0;34m)\u001b[0m\u001b[0;34m\u001b[0m\u001b[0m\n\u001b[0;32m----> 2\u001b[0;31m \u001b[0mprint\u001b[0m\u001b[0;34m(\u001b[0m\u001b[0mx\u001b[0m\u001b[0;34m.\u001b[0m\u001b[0mview\u001b[0m\u001b[0;34m(\u001b[0m\u001b[0;36m2\u001b[0m\u001b[0;34m,\u001b[0m\u001b[0;34m-\u001b[0m\u001b[0;36m1\u001b[0m\u001b[0;34m)\u001b[0m\u001b[0;34m)\u001b[0m\u001b[0;34m\u001b[0m\u001b[0m\n\u001b[0m",
      "\u001b[0;31mValueError\u001b[0m: Type must be a sub-type of ndarray type"
     ]
    }
   ],
   "source": [
    "x = numpy.array([1,2,3,4,5,6], dtype=numpy.int8)\n",
    "print(x.view(2,-1))"
   ]
  },
  {
   "cell_type": "code",
   "execution_count": null,
   "metadata": {},
   "outputs": [],
   "source": [
    "x = np.array([1,1],[1,1])\n",
    "y = np.array([1,1],[1,1])\n",
    "z = np.concaten"
   ]
  },
  {
   "cell_type": "code",
   "execution_count": null,
   "metadata": {},
   "outputs": [],
   "source": [
    "import numpy as np\n",
    "import random\n",
    "x = np.array([[0.1, 0.1], [0.2, 0.3]])\n",
    "print(x)\n",
    "y = x.astype(np.uint8)\n",
    "print(y)\n",
    "z = random.randn(2,3)\n",
    "z = np.array(z)\n",
    "print(z)"
   ]
  },
  {
   "cell_type": "code",
   "execution_count": 14,
   "metadata": {},
   "outputs": [
    {
     "name": "stdout",
     "output_type": "stream",
     "text": [
      "torch.Size([3, 3])\n",
      "tensor([[-4.4555e-34,  4.5859e-41, -4.2771e-34],\n",
      "        [ 4.5859e-41, -4.2664e-34,  4.5859e-41],\n",
      "        [-4.2786e-34,  4.5859e-41, -4.2668e-34]])\n"
     ]
    }
   ],
   "source": [
    "import torch\n",
    "x = torch.FloatTensor(3, 3)\n",
    "print(x.shape)\n",
    "print(x)"
   ]
  },
  {
   "cell_type": "code",
   "execution_count": null,
   "metadata": {},
   "outputs": [],
   "source": [
    "array = np.array([1, 2, 3, 4])\n",
    "x = {i:j for i, j in enumerate(array)}\n",
    "print(x)"
   ]
  },
  {
   "cell_type": "code",
   "execution_count": 19,
   "metadata": {},
   "outputs": [
    {
     "name": "stdout",
     "output_type": "stream",
     "text": [
      "[[0.45081606]\n",
      " [0.87801183]]\n"
     ]
    }
   ],
   "source": [
    "x = np.random.rand(2,1)\n",
    "print(x)"
   ]
  },
  {
   "cell_type": "code",
   "execution_count": 21,
   "metadata": {},
   "outputs": [
    {
     "name": "stdout",
     "output_type": "stream",
     "text": [
      "[ 1.82751227 -3.34546537  2.5249854   0.16007269]\n"
     ]
    },
    {
     "data": {
      "image/png": "[encoded data removed]",
      "text/plain": [
       "<matplotlib.figure.Figure at 0x7fd689bbf358>"
      ]
     },
     "metadata": {},
     "output_type": "display_data"
    }
   ],
   "source": [
    "import matplotlib.pyplot as plt\n",
    "import numpy as np\n",
    "\n",
    "n_dot = 20\n",
    "n_order = 3          #阶数\n",
    "\n",
    "x = np.linspace(0,1,n_dot)                         #[0,1]之间创建20个点\n",
    "y = np.sqrt(x) + 0.2*np.random.rand(n_dot)\n",
    "p = np.poly1d(np.polyfit(x,y,n_order))            #拟合并构造出一个3次多项式\n",
    "print(p.coeffs)                               #输出拟合的系数，顺序从高阶低阶\n",
    "\n",
    "#画出拟合出来的多项式所表达的曲线以及原始的点\n",
    "t = np.linspace(0,1,200)\n",
    "plt.plot(x,y,'ro',t,p(t),'-')\n",
    "plt.show()"
   ]
  },
  {
   "cell_type": "code",
   "execution_count": 44,
   "metadata": {},
   "outputs": [
    {
     "name": "stdout",
     "output_type": "stream",
     "text": [
      "[0.  0.5 1. ]\n",
      "[ 0.5  -0.25 -0.25]\n",
      "[-1.68067227e-01  2.52100840e-01  9.15966387e-01  1.76271580e-16]\n",
      "[1.5       0.8660254 0.8660254]\n"
     ]
    },
    {
     "name": "stderr",
     "output_type": "stream",
     "text": [
      "/home/imed002/anaconda3/lib/python3.6/site-packages/IPython/core/interactiveshell.py:2910: RankWarning: Polyfit may be poorly conditioned\n",
      "  exec(code_obj, self.user_global_ns, self.user_ns)\n"
     ]
    },
    {
     "data": {
      "image/png": "[encoded data removed]",
      "text/plain": [
       "<matplotlib.figure.Figure at 0x7fd6887d6f28>"
      ]
     },
     "metadata": {},
     "output_type": "display_data"
    }
   ],
   "source": [
    "import numpy as np\n",
    "import matplotlib.pyplot as plt\n",
    "#采样点选择1400个，因为设置的信号频率分量最高为600赫兹，根据采样定理知采样频率要大于信号频率2倍，所以这里设置采\n",
    "#样频率为1400赫兹（即一秒内有1400个采样点，一样意思的）\n",
    "x=np.linspace(0,1,3)\n",
    "print(x)\n",
    "#设置需要采样的信号，频率分量有180，390和600\n",
    "# y=7*np.sin(2*np.pi*180*x) + 2.8*np.sin(2*np.pi*390*x)+5.1*np.sin(2*np.pi*600*x)\n",
    "# y = np.sqrt(x) + 0.2*np.random.rand(n_dot)\n",
    "y = [0, 0.5, 1]\n",
    "yy=np.fft.ifft(y, n=3)#//快速傅里叶变换\n",
    "yreal = yy.real # 获取实数部分\n",
    "print(yreal)\n",
    "yimag = yy.imag # 获取虚数部分\n",
    "p = np.poly1d(np.polyfit(x,y,n_order))            #拟合并构造出一个3次多项式\n",
    "print(p.coeffs) \n",
    "yf=np.abs(np.fft.fft(y)) # 取绝对值，计算复数的振幅\n",
    "print(yf)\n",
    "xf = np.arange(len(y)) # 频率，len(y)就是1400,xf就是【0，。。。，1399】\n",
    "plt.subplot(221)\n",
    "plt.plot(x,y)\n",
    "plt.title(\"Original wave\")\n",
    "plt.show()"
   ]
  },
  {
   "cell_type": "code",
   "execution_count": null,
   "metadata": {},
   "outputs": [],
   "source": []
  },
  {
   "cell_type": "code",
   "execution_count": null,
   "metadata": {},
   "outputs": [],
   "source": []
  },
  {
   "cell_type": "code",
   "execution_count": null,
   "metadata": {},
   "outputs": [],
   "source": []
  },
  {
   "cell_type": "code",
   "execution_count": null,
   "metadata": {},
   "outputs": [],
   "source": []
  },
  {
   "cell_type": "code",
   "execution_count": null,
   "metadata": {},
   "outputs": [],
   "source": []
  },
  {
   "cell_type": "code",
   "execution_count": null,
   "metadata": {},
   "outputs": [],
   "source": []
  },
  {
   "cell_type": "code",
   "execution_count": null,
   "metadata": {},
   "outputs": [],
   "source": []
  },
  {
   "cell_type": "code",
   "execution_count": null,
   "metadata": {},
   "outputs": [],
   "source": []
  },
  {
   "cell_type": "code",
   "execution_count": null,
   "metadata": {},
   "outputs": [],
   "source": []
  },
  {
   "cell_type": "code",
   "execution_count": null,
   "metadata": {},
   "outputs": [],
   "source": []
  },
  {
   "cell_type": "code",
   "execution_count": null,
   "metadata": {},
   "outputs": [],
   "source": []
  },
  {
   "cell_type": "code",
   "execution_count": null,
   "metadata": {},
   "outputs": [],
   "source": []
  },
  {
   "cell_type": "code",
   "execution_count": null,
   "metadata": {},
   "outputs": [],
   "source": []
  },
  {
   "cell_type": "code",
   "execution_count": null,
   "metadata": {},
   "outputs": [],
   "source": []
  },
  {
   "cell_type": "code",
   "execution_count": null,
   "metadata": {},
   "outputs": [],
   "source": []
  },
  {
   "cell_type": "code",
   "execution_count": null,
   "metadata": {},
   "outputs": [],
   "source": []
  },
  {
   "cell_type": "code",
   "execution_count": null,
   "metadata": {},
   "outputs": [],
   "source": []
  },
  {
   "cell_type": "code",
   "execution_count": null,
   "metadata": {},
   "outputs": [],
   "source": []
  }
 ],
 "metadata": {
  "kernelspec": {
   "display_name": "Python 3",
   "language": "python",
   "name": "python3"
  },
  "language_info": {
   "codemirror_mode": {
    "name": "ipython",
    "version": 3
   },
   "file_extension": ".py",
   "mimetype": "text/x-python",
   "name": "python",
   "nbconvert_exporter": "python",
   "pygments_lexer": "ipython3",
   "version": "3.6.2"
  }
 },
 "nbformat": 4,
 "nbformat_minor": 2
}
